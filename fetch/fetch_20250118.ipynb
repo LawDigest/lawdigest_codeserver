{
 "cells": [
  {
   "cell_type": "markdown",
   "metadata": {},
   "source": [
    "\n",
    "## 250118 데이터 수집\n",
    "\n",
    "목표\n",
    "- timeline 테이블 데이터 갱신을 위한 22대 전체 bill_result 데이터 수집"
   ]
  },
  {
   "cell_type": "code",
   "execution_count": 1,
   "metadata": {},
   "outputs": [],
   "source": [
    "import data_operations as dataops"
   ]
  },
  {
   "cell_type": "code",
   "execution_count": 3,
   "metadata": {},
   "outputs": [
    {
     "name": "stdout",
     "output_type": "stream",
     "text": [
      "\n",
      "[2024-11-27 ~ 2024-12-01 데이터 수집]\n",
      "2024-11-28 | page 1 | total: 100\n",
      "2024-11-28 | page 2 | total: 135\n",
      "[모든 파일 다운로드 완료! 전체 소요 시간: 0.92초]\n",
      "Total dates processed: 5\n",
      "[135 개의 데이터 수집됨]\n",
      "데이터 전송 성공: https://api.lawdigest.net/v1/auto_data_upload/bill_result\n",
      "응답 데이터: {'status': 'OK', 'code': 200, 'message': '요청이 정상적으로 처리되었습니다.', 'data': '당일 법안 본회의 처리 결과 수집 수정 데이터 요청 성공'}\n",
      "진행률: 1/1 (100.00%)\n"
     ]
    },
    {
     "data": {
      "text/html": [
       "<div>\n",
       "<style scoped>\n",
       "    .dataframe tbody tr th:only-of-type {\n",
       "        vertical-align: middle;\n",
       "    }\n",
       "\n",
       "    .dataframe tbody tr th {\n",
       "        vertical-align: top;\n",
       "    }\n",
       "\n",
       "    .dataframe thead th {\n",
       "        text-align: right;\n",
       "    }\n",
       "</style>\n",
       "<table border=\"1\" class=\"dataframe\">\n",
       "  <thead>\n",
       "    <tr style=\"text-align: right;\">\n",
       "      <th></th>\n",
       "      <th>billId</th>\n",
       "      <th>billProposeResult</th>\n",
       "    </tr>\n",
       "  </thead>\n",
       "  <tbody>\n",
       "    <tr>\n",
       "      <th>0</th>\n",
       "      <td>PRC_V2X4O1Y1Q2E1C1K7A2X7J2V0M3F7K2</td>\n",
       "      <td>원안가결</td>\n",
       "    </tr>\n",
       "    <tr>\n",
       "      <th>1</th>\n",
       "      <td>PRC_G2D4X1O1R2F1Q1I7V2B4O5Z2L9I5B5</td>\n",
       "      <td>원안가결</td>\n",
       "    </tr>\n",
       "    <tr>\n",
       "      <th>2</th>\n",
       "      <td>PRC_J2G4X1O1Z2W1X1W3C4E9I4P1G5A9O1</td>\n",
       "      <td>원안가결</td>\n",
       "    </tr>\n",
       "    <tr>\n",
       "      <th>3</th>\n",
       "      <td>PRC_O2Y4B1M1S2O1D1Y7S2A2P5T0X2N1N2</td>\n",
       "      <td>원안가결</td>\n",
       "    </tr>\n",
       "    <tr>\n",
       "      <th>4</th>\n",
       "      <td>PRC_B2Q4E1E1T2V0O1K5R4K2B1P6Y1C3K1</td>\n",
       "      <td>원안가결</td>\n",
       "    </tr>\n",
       "    <tr>\n",
       "      <th>...</th>\n",
       "      <td>...</td>\n",
       "      <td>...</td>\n",
       "    </tr>\n",
       "    <tr>\n",
       "      <th>130</th>\n",
       "      <td>PRC_P2V4U0T5T3B0Y0X9T1V1B1A5Z5I2F0</td>\n",
       "      <td>대안반영폐기</td>\n",
       "    </tr>\n",
       "    <tr>\n",
       "      <th>131</th>\n",
       "      <td>PRC_Y2V4U0D5B3A0V0U9T1C2B5J2I0H9G3</td>\n",
       "      <td>대안반영폐기</td>\n",
       "    </tr>\n",
       "    <tr>\n",
       "      <th>132</th>\n",
       "      <td>PRC_W2G4V0K5R3A0W1D3Q0N6X3S8E7Z1O8</td>\n",
       "      <td>대안반영폐기</td>\n",
       "    </tr>\n",
       "    <tr>\n",
       "      <th>133</th>\n",
       "      <td>PRC_B2A4P0U5Q3A0N1Y3B0B2N5Y7E1R2I2</td>\n",
       "      <td>대안반영폐기</td>\n",
       "    </tr>\n",
       "    <tr>\n",
       "      <th>134</th>\n",
       "      <td>PRC_U2L4Z0P5Z3E0I1I0O4I6R4B1D1O7R0</td>\n",
       "      <td>대안반영폐기</td>\n",
       "    </tr>\n",
       "  </tbody>\n",
       "</table>\n",
       "<p>135 rows × 2 columns</p>\n",
       "</div>"
      ],
      "text/plain": [
       "                                 billId billProposeResult\n",
       "0    PRC_V2X4O1Y1Q2E1C1K7A2X7J2V0M3F7K2              원안가결\n",
       "1    PRC_G2D4X1O1R2F1Q1I7V2B4O5Z2L9I5B5              원안가결\n",
       "2    PRC_J2G4X1O1Z2W1X1W3C4E9I4P1G5A9O1              원안가결\n",
       "3    PRC_O2Y4B1M1S2O1D1Y7S2A2P5T0X2N1N2              원안가결\n",
       "4    PRC_B2Q4E1E1T2V0O1K5R4K2B1P6Y1C3K1              원안가결\n",
       "..                                  ...               ...\n",
       "130  PRC_P2V4U0T5T3B0Y0X9T1V1B1A5Z5I2F0            대안반영폐기\n",
       "131  PRC_Y2V4U0D5B3A0V0U9T1C2B5J2I0H9G3            대안반영폐기\n",
       "132  PRC_W2G4V0K5R3A0W1D3Q0N6X3S8E7Z1O8            대안반영폐기\n",
       "133  PRC_B2A4P0U5Q3A0N1Y3B0B2N5Y7E1R2I2            대안반영폐기\n",
       "134  PRC_U2L4Z0P5Z3E0I1I0O4I6R4B1D1O7R0            대안반영폐기\n",
       "\n",
       "[135 rows x 2 columns]"
      ]
     },
     "execution_count": 3,
     "metadata": {},
     "output_type": "execute_result"
    }
   ],
   "source": [
    "df_result = dataops.update_bills_result('2024-11-27', '2024-12-01', mode='remote')\n",
    "df_result"
   ]
  },
  {
   "cell_type": "code",
   "execution_count": 4,
   "metadata": {},
   "outputs": [],
   "source": [
    "df_result.to_csv('./data/bills_result_22_250118.csv')\n",
    "df_result.to_json('./data/bills_result_22_250118.json')"
   ]
  },
  {
   "cell_type": "code",
   "execution_count": null,
   "metadata": {},
   "outputs": [],
   "source": []
  }
 ],
 "metadata": {
  "kernelspec": {
   "display_name": ".venv",
   "language": "python",
   "name": "python3"
  },
  "language_info": {
   "codemirror_mode": {
    "name": "ipython",
    "version": 3
   },
   "file_extension": ".py",
   "mimetype": "text/x-python",
   "name": "python",
   "nbconvert_exporter": "python",
   "pygments_lexer": "ipython3",
   "version": "3.11.2"
  }
 },
 "nbformat": 4,
 "nbformat_minor": 2
}
